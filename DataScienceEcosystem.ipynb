{
 "cells": [
  {
   "cell_type": "markdown",
   "id": "d320ff9e-4782-4a48-9057-9bc5271dcb1e",
   "metadata": {},
   "source": [
    "# Data Science Tools and Ecosystem"
   ]
  },
  {
   "cell_type": "markdown",
   "id": "714249dd-90ba-459c-9ab4-c900033bafc9",
   "metadata": {},
   "source": [
    "'En este cuaderno, se resumen las herramientas y ecosistemas de ciencia de datos.'"
   ]
  },
  {
   "cell_type": "markdown",
   "id": "54507d6b-0180-46cc-8c48-189865ca2a19",
   "metadata": {},
   "source": [
    "**Objetivos:**\n",
    "- Listar lenguajes populares para Ciencia de Datos\n",
    "- Listar bibliotecas utilizadas en Ciencia de Datos\n",
    "- Nombrar herramientas de código abierto utilizadas en Ciencia de Datos"
   ]
  },
  {
   "cell_type": "markdown",
   "id": "7d4f0d0c-9c20-4b87-9084-90265868ce62",
   "metadata": {
    "scrolled": true
   },
   "source": [
    "'Algunos de los lenguajes populares que utilizan los científicos de datos son:'\n",
    "1. Python\n",
    "2. R\n",
    "3. Julia"
   ]
  },
  {
   "cell_type": "markdown",
   "id": "e9fa65bf-aef8-4283-bb1b-afeb9d50f9c9",
   "metadata": {},
   "source": [
    "'Algunas de las bibliotecas comúnmente utilizadas por los científicos de datos incluyen:'\n",
    "1. Pandas\n",
    "2. NumPy\n",
    "3. SciPy"
   ]
  },
  {
   "cell_type": "markdown",
   "id": "530fced2-c32d-4f27-89c9-df2c0e34feb7",
   "metadata": {},
   "source": [
    "\n",
    "| Herramientas de Ciencia de Datos |\n",
    "|----------------------------------|\n",
    "|Apache AirFlow|\n",
    "|Kuve Flow|\n",
    "|Apache Spark SQL|"
   ]
  },
  {
   "cell_type": "markdown",
   "id": "08a89f0b-10e5-4c6d-87ba-7e158cea4d74",
   "metadata": {},
   "source": [
    "### A continuación, se presentan algunos ejemplos de evaluación de expresiones aritméticas en Python."
   ]
  },
  {
   "cell_type": "code",
   "execution_count": 14,
   "id": "e4061309-221d-408c-9738-bacde34eb7ee",
   "metadata": {},
   "outputs": [
    {
     "data": {
      "text/plain": [
       "17"
      ]
     },
     "execution_count": 14,
     "metadata": {},
     "output_type": "execute_result"
    }
   ],
   "source": [
    "# Esta es una expresión aritmética simple para multiplicar y luego sumar enteros\n",
    "\n",
    "(3*4)+5"
   ]
  },
  {
   "cell_type": "code",
   "execution_count": 13,
   "id": "6d54098b-08e8-40ba-8f9f-fcfcb794a2a6",
   "metadata": {},
   "outputs": [
    {
     "data": {
      "text/plain": [
       "3.3333333333333335"
      ]
     },
     "execution_count": 13,
     "metadata": {},
     "output_type": "execute_result"
    }
   ],
   "source": [
    "# Esto convertirá 200 minutos a horas dividiendo por 60\n",
    "\n",
    "200/60"
   ]
  },
  {
   "cell_type": "markdown",
   "id": "48bfd0de-0e4c-408c-ba93-537f5d783dc6",
   "metadata": {},
   "source": [
    "## Autor\n",
    "Carmen Alonso"
   ]
  },
  {
   "cell_type": "code",
   "execution_count": null,
   "id": "13af21fb-b328-4b80-9fb8-2c4647857aa3",
   "metadata": {},
   "outputs": [],
   "source": []
  }
 ],
 "metadata": {
  "kernelspec": {
   "display_name": "Python 3 (ipykernel)",
   "language": "python",
   "name": "python3"
  },
  "language_info": {
   "codemirror_mode": {
    "name": "ipython",
    "version": 3
   },
   "file_extension": ".py",
   "mimetype": "text/x-python",
   "name": "python",
   "nbconvert_exporter": "python",
   "pygments_lexer": "ipython3",
   "version": "3.12.8"
  }
 },
 "nbformat": 4,
 "nbformat_minor": 5
}
